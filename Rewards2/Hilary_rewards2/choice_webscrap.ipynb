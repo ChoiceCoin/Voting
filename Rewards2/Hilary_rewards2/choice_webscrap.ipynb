{
 "cells": [
  {
   "cell_type": "code",
   "execution_count": 23,
   "id": "3f1f75eb",
   "metadata": {},
   "outputs": [],
   "source": [
    "#importing libs used in the program\n",
    "from selenium import webdriver \n",
    "import time\n",
    "import pandas as pd"
   ]
  },
  {
   "cell_type": "code",
   "execution_count": 24,
   "id": "9d7d2697",
   "metadata": {},
   "outputs": [],
   "source": [
    "#using selenium webdriver to access the site\n",
    "driver = webdriver.Chrome()\n",
    "driver.get(\"https://algoexplorer.io/address/25S2YKMG2E3L5RTFI67NTSWFJJQHBTDULAIN7TQVXWB3E4E5Y6BPG3O44I\")"
   ]
  },
  {
   "cell_type": "code",
   "execution_count": 25,
   "id": "d9f11713",
   "metadata": {},
   "outputs": [],
   "source": [
    "#creating an empty lists to store the values\n",
    "Amount= []\n",
    "From = []"
   ]
  },
  {
   "cell_type": "code",
   "execution_count": 26,
   "id": "aab1ed34",
   "metadata": {},
   "outputs": [
    {
     "data": {
      "text/plain": [
       "(0, 0)"
      ]
     },
     "execution_count": 26,
     "metadata": {},
     "output_type": "execute_result"
    }
   ],
   "source": [
    "#to confirm the list is empty\n",
    "len(From), len(Amount)"
   ]
  },
  {
   "cell_type": "code",
   "execution_count": 27,
   "id": "ba473e42",
   "metadata": {},
   "outputs": [],
   "source": [
    "button = driver.find_element_by_xpath('//button[@data-cy = \"next\"]') #creating a button variable using the x_path\n",
    "total_page = driver.find_element_by_xpath('//div[@data-cy=\"pagination\"]') #Getting the total number of transaction pages \n",
    "total_page = total_page.text.replace(\"of\",\"\") #cleaning the data\n",
    "num_of_page =int(total_page) - 1 #converting the string to an integer"
   ]
  },
  {
   "cell_type": "code",
   "execution_count": 28,
   "id": "a78a5160",
   "metadata": {},
   "outputs": [],
   "source": [
    "num = 0\n",
    "while num <= num_of_page:\n",
    "    try: #The try and except block is used to avoid a scenerio where an error is produced when the program reaches the last transaction page and tries to click the button again \n",
    "        button.click() #this enables the clicking of the button\n",
    "        prices = driver.find_elements_by_xpath('//tbody/tr/td[4]') #uses the x_path to find all the elements in the Amount column\n",
    "        for price in prices: \n",
    "            Amount.append(price.text) #append the elements into a list with the aid of the for-loop\n",
    "        prices1 = driver.find_elements_by_xpath('//tbody/tr/td[5]')#uses the x_path to find all the elements in the From column\n",
    "        for price in prices1:\n",
    "            From.append(price.text)   #appends the elements into a list with the aid of the for-loop\n",
    "    except:\n",
    "        print(\"The button is no longer clickable\")\n",
    "    num += 1 #increments the num variable\n",
    "    time.sleep(5)#slows down the while-loop to ensure the program executes properly "
   ]
  },
  {
   "cell_type": "code",
   "execution_count": 21,
   "id": "a5516b51",
   "metadata": {},
   "outputs": [],
   "source": [
    "dataset = pd.DataFrame({'Amount': Amount, \"From\": From}) #creating a dataset/dataframe with pandas which contains the values obtained\n",
    "dataset.to_csv(\"Algo-choice_blockexplorer_data\",index=False) #converting the dataframe to a csv file "
   ]
  },
  {
   "cell_type": "code",
   "execution_count": 22,
   "id": "6c394f99",
   "metadata": {},
   "outputs": [
    {
     "data": {
      "text/html": [
       "<div>\n",
       "<style scoped>\n",
       "    .dataframe tbody tr th:only-of-type {\n",
       "        vertical-align: middle;\n",
       "    }\n",
       "\n",
       "    .dataframe tbody tr th {\n",
       "        vertical-align: top;\n",
       "    }\n",
       "\n",
       "    .dataframe thead th {\n",
       "        text-align: right;\n",
       "    }\n",
       "</style>\n",
       "<table border=\"1\" class=\"dataframe\">\n",
       "  <thead>\n",
       "    <tr style=\"text-align: right;\">\n",
       "      <th></th>\n",
       "      <th>Amount</th>\n",
       "      <th>From</th>\n",
       "    </tr>\n",
       "  </thead>\n",
       "  <tbody>\n",
       "    <tr>\n",
       "      <th>0</th>\n",
       "      <td>29,778,841.42 Choice</td>\n",
       "      <td>25S2YKMG2E3L5RTFI67NTSWFJJQHBTDULAIN7TQVXWB3E4...</td>\n",
       "    </tr>\n",
       "    <tr>\n",
       "      <th>1</th>\n",
       "      <td>3.4</td>\n",
       "      <td>25S2YKMG2E3L5RTFI67NTSWFJJQHBTDULAIN7TQVXWB3E4...</td>\n",
       "    </tr>\n",
       "    <tr>\n",
       "      <th>2</th>\n",
       "      <td>11,124.41 Choice</td>\n",
       "      <td>5EAV5ZEWQ33XZ25STXG7OL4IMHONBBBSPX5BVU3DA55OWO...</td>\n",
       "    </tr>\n",
       "    <tr>\n",
       "      <th>3</th>\n",
       "      <td>23,591 Choice</td>\n",
       "      <td>GY43SCKR4OUOCNZBGZYLY3IO23QGNOTGOOGI444NRAWDJK...</td>\n",
       "    </tr>\n",
       "    <tr>\n",
       "      <th>4</th>\n",
       "      <td>10,000 Choice</td>\n",
       "      <td>RFBSX5P6NQHPAEJ22IN3SHBJ4W5EVDX52VX4VBLHQUVMD5...</td>\n",
       "    </tr>\n",
       "    <tr>\n",
       "      <th>...</th>\n",
       "      <td>...</td>\n",
       "      <td>...</td>\n",
       "    </tr>\n",
       "    <tr>\n",
       "      <th>289</th>\n",
       "      <td>1 Choice</td>\n",
       "      <td>RYL7PTWXMSJBTNDGIYMKEHVQSZEO234NA7ODGEDRPNBKSE...</td>\n",
       "    </tr>\n",
       "    <tr>\n",
       "      <th>290</th>\n",
       "      <td>2 Choice</td>\n",
       "      <td>IZIRBJJM3ZAW63AIGINNAPGUX542ZGZVJVHLSIRP2QBAKP...</td>\n",
       "    </tr>\n",
       "    <tr>\n",
       "      <th>291</th>\n",
       "      <td>1 Choice</td>\n",
       "      <td>PDVF7BKP7DQDGLDSC3OTW6GM34ZSA7HTOC5WSUGM72MBZF...</td>\n",
       "    </tr>\n",
       "    <tr>\n",
       "      <th>292</th>\n",
       "      <td>0 Choice</td>\n",
       "      <td>25S2YKMG2E3L5RTFI67NTSWFJJQHBTDULAIN7TQVXWB3E4...</td>\n",
       "    </tr>\n",
       "    <tr>\n",
       "      <th>293</th>\n",
       "      <td>4</td>\n",
       "      <td>3XOQCAIHLQQMTIX5QZGGVRX52DC6ARDKZJOMLF7SSCYLP3...</td>\n",
       "    </tr>\n",
       "  </tbody>\n",
       "</table>\n",
       "<p>294 rows × 2 columns</p>\n",
       "</div>"
      ],
      "text/plain": [
       "                   Amount                                               From\n",
       "0    29,778,841.42 Choice  25S2YKMG2E3L5RTFI67NTSWFJJQHBTDULAIN7TQVXWB3E4...\n",
       "1                     3.4  25S2YKMG2E3L5RTFI67NTSWFJJQHBTDULAIN7TQVXWB3E4...\n",
       "2        11,124.41 Choice  5EAV5ZEWQ33XZ25STXG7OL4IMHONBBBSPX5BVU3DA55OWO...\n",
       "3           23,591 Choice  GY43SCKR4OUOCNZBGZYLY3IO23QGNOTGOOGI444NRAWDJK...\n",
       "4           10,000 Choice  RFBSX5P6NQHPAEJ22IN3SHBJ4W5EVDX52VX4VBLHQUVMD5...\n",
       "..                    ...                                                ...\n",
       "289              1 Choice  RYL7PTWXMSJBTNDGIYMKEHVQSZEO234NA7ODGEDRPNBKSE...\n",
       "290              2 Choice  IZIRBJJM3ZAW63AIGINNAPGUX542ZGZVJVHLSIRP2QBAKP...\n",
       "291              1 Choice  PDVF7BKP7DQDGLDSC3OTW6GM34ZSA7HTOC5WSUGM72MBZF...\n",
       "292              0 Choice  25S2YKMG2E3L5RTFI67NTSWFJJQHBTDULAIN7TQVXWB3E4...\n",
       "293                     4  3XOQCAIHLQQMTIX5QZGGVRX52DC6ARDKZJOMLF7SSCYLP3...\n",
       "\n",
       "[294 rows x 2 columns]"
      ]
     },
     "execution_count": 22,
     "metadata": {},
     "output_type": "execute_result"
    }
   ],
   "source": [
    "dataset"
   ]
  }
 ],
 "metadata": {
  "kernelspec": {
   "display_name": "Python 3 (ipykernel)",
   "language": "python",
   "name": "python3"
  },
  "language_info": {
   "codemirror_mode": {
    "name": "ipython",
    "version": 3
   },
   "file_extension": ".py",
   "mimetype": "text/x-python",
   "name": "python",
   "nbconvert_exporter": "python",
   "pygments_lexer": "ipython3",
   "version": "3.9.6"
  }
 },
 "nbformat": 4,
 "nbformat_minor": 5
}
